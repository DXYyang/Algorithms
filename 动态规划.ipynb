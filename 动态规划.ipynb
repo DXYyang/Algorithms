{
 "cells": [
  {
   "cell_type": "code",
   "execution_count": 6,
   "metadata": {},
   "outputs": [
    {
     "name": "stdout",
     "output_type": "stream",
     "text": [
      "5\n"
     ]
    }
   ],
   "source": [
    "'''\n",
    "爬楼梯\n",
    "描述：有N阶楼梯，每次可以上一阶或者两阶，求有多少种上楼梯的方法\n",
    "思路：走到第i个楼梯的方法数为走到第i-1和第i-2个楼梯的方法数之和\n",
    "dp[i]=dp[i-1]+dp[i-2]\n",
    "'''\n",
    "def climbStairs(n):\n",
    "    if n<=2:return n\n",
    "    pre1=1;pre2=2\n",
    "    for i in range(3,n+1):\n",
    "        res=pre1+pre2\n",
    "        pre1,pre2=pre2,res\n",
    "    return pre2\n",
    "print(climbStairs(4))"
   ]
  },
  {
   "cell_type": "code",
   "execution_count": 14,
   "metadata": {},
   "outputs": [
    {
     "name": "stdout",
     "output_type": "stream",
     "text": [
      "4\n",
      "3\n",
      "7\n"
     ]
    }
   ],
   "source": [
    "'''\n",
    "强盗抢劫 I：\n",
    "抢劫一排住户，但是不能抢邻近的住户，求最大抢劫量\n",
    "思路：由于不能抢劫邻近住户，如果抢劫了第i-1个住户，那么不能再抢劫第i个住户\n",
    "dp[i]=max(dp[i-2]+nums[i],dp[i-1])\n",
    "'''\n",
    "def rob(nums):\n",
    "    if not nums:return 0\n",
    "    if len(nums)==1:return nums[0]\n",
    "    if len(nums)==2:return max(nums[0],nums[1])\n",
    "    pre1,pre2=nums[0],max(nums[0],nums[1])\n",
    "    for i in range(2,len(nums)):\n",
    "        cur=max(pre2,pre1+nums[i])\n",
    "        pre1,pre2=pre2,cur\n",
    "    return pre2\n",
    "print(rob([1,2,3,1]))\n",
    "'''\n",
    "强盗抢劫2:\n",
    "环形街区(首尾相连)\n",
    "思路：首尾不能同时被抢，所以可以分为两个数组，一个包含首，一个包含尾，最后取最大值\n",
    "'''  \n",
    "def circleRob(nums):\n",
    "    if not nums:return 0\n",
    "    if len(nums)==1:return nums[0]\n",
    "    if len(nums)==2:return max(nums[0],nums[1])\n",
    "    return max(rob(nums[0:len(nums)-1]),rob(nums[1:len(nums)]))\n",
    "print(circleRob([2,3,2]))\n",
    "\n",
    "'''\n",
    "强盗抢劫3:\n",
    "描述：只有一个入口，所有房间组成了一颗二叉树，如果树上相邻的两个节点同时被抢劫，会被发现，求最大抢劫数\n",
    "Input:[3,2,3,null,3,null,1]\n",
    "Output: 7\n",
    "思路: 取当前值的情况下，不取两子树值，要么取两子树值，最后取最大值 dfs\n",
    "'''\n",
    "class TreeNode:\n",
    "    def __init__(self,x=None):\n",
    "        self.val=x\n",
    "        self.left=None\n",
    "        self.right=None\n",
    "def TreeRob(root):\n",
    "    def dfs(root):\n",
    "        if not root:return [0,0]\n",
    "        leftPart,rightPart=dfs(root.left),dfs(root.right)\n",
    "        noCurPart=leftPart[1]+rightPart[1]\n",
    "        nowMaxPart=max(noCurPart,leftPart[0]+rightPart[0]+root.val)\n",
    "        return [noCurPart,nowMaxPart]\n",
    "    return dfs(root)[1]\n",
    "def createTreeByBFS(a):\n",
    "    if not a:return None\n",
    "    root=TreeNode(a.pop(0))\n",
    "    queue=[root]\n",
    "    while a:\n",
    "        tmplist=[]\n",
    "        for item in queue:\n",
    "            leftVal=a.pop(0)\n",
    "            if leftVal:\n",
    "                item.left=TreeNode(leftVal)\n",
    "                tmplist.append(item.left)\n",
    "            rightVal=a.pop(0)\n",
    "            if rightVal:\n",
    "                item.right=TreeNode(rightVal)\n",
    "                tmplist.append(item.right)\n",
    "        queue=tmplist\n",
    "    return root\n",
    "a=[3,2,3,None,3,None,1]\n",
    "root=createTreeByBFS(a)\n",
    "print(TreeRob(root))\n",
    "\n",
    "    "
   ]
  },
  {
   "cell_type": "code",
   "execution_count": null,
   "metadata": {},
   "outputs": [],
   "source": []
  },
  {
   "cell_type": "code",
   "execution_count": null,
   "metadata": {},
   "outputs": [],
   "source": []
  }
 ],
 "metadata": {
  "kernelspec": {
   "display_name": "Python 3",
   "language": "python",
   "name": "python3"
  },
  "language_info": {
   "codemirror_mode": {
    "name": "ipython",
    "version": 3
   },
   "file_extension": ".py",
   "mimetype": "text/x-python",
   "name": "python",
   "nbconvert_exporter": "python",
   "pygments_lexer": "ipython3",
   "version": "3.6.1"
  }
 },
 "nbformat": 4,
 "nbformat_minor": 2
}
