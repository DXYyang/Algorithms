{
 "cells": [
  {
   "cell_type": "code",
   "execution_count": 4,
   "metadata": {},
   "outputs": [
    {
     "name": "stdout",
     "output_type": "stream",
     "text": [
      "2\n"
     ]
    }
   ],
   "source": [
    "'''\n",
    "计算列表中整数乘积末尾为0的个数\n",
    "输入:[5,2,9,85,33,8]\n",
    "输出:1\n",
    "思路:一个2*5得到一个末尾为0，统计相乘得到的数有多少个2*5=>遍历每一个数，累加能被2整除和能被5整除的次数，取两者的最小值\n",
    "'''\n",
    "def cntEndZero(a):\n",
    "    cnt=[0,0]\n",
    "    for i in a:\n",
    "        while i%2==0:\n",
    "            i/=2\n",
    "            cnt[0]+=1\n",
    "        while i%5==0:\n",
    "            i/=5\n",
    "            cnt[1]+=1\n",
    "    return min(cnt[0],cnt[1])\n",
    "print(cntEndZero([5,2,9,85,33,8]))\n",
    "        \n",
    "    \n"
   ]
  },
  {
   "cell_type": "code",
   "execution_count": null,
   "metadata": {},
   "outputs": [],
   "source": []
  }
 ],
 "metadata": {
  "kernelspec": {
   "display_name": "Python 3",
   "language": "python",
   "name": "python3"
  },
  "language_info": {
   "codemirror_mode": {
    "name": "ipython",
    "version": 3
   },
   "file_extension": ".py",
   "mimetype": "text/x-python",
   "name": "python",
   "nbconvert_exporter": "python",
   "pygments_lexer": "ipython3",
   "version": "3.6.1"
  }
 },
 "nbformat": 4,
 "nbformat_minor": 2
}
