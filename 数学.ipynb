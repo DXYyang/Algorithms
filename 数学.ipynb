{
 "cells": [
  {
   "cell_type": "code",
   "execution_count": 3,
   "metadata": {},
   "outputs": [
    {
     "data": {
      "text/plain": [
       "4"
      ]
     },
     "execution_count": 3,
     "metadata": {},
     "output_type": "execute_result"
    }
   ],
   "source": [
    "'''\n",
    "Count Primes\n",
    "题目描述：统计小于n的所有质数个数\n",
    "思路：找到一个素数时，将其的倍数全部排出掉\n",
    "'''\n",
    "class Solution:\n",
    "    def countPrimes(self,n):\n",
    "        notPrimes=[False]*n\n",
    "        cnt=0\n",
    "        for i in range(2,n):\n",
    "            if notPrimes[i]:\n",
    "                continue\n",
    "            cnt+=1\n",
    "            for j in range(i**2,n,i):\n",
    "                notPrimes[j]=True\n",
    "        return cnt\n",
    "s=Solution()\n",
    "s.countPrimes(10)"
   ]
  },
  {
   "cell_type": "code",
   "execution_count": 8,
   "metadata": {},
   "outputs": [
    {
     "name": "stdout",
     "output_type": "stream",
     "text": [
      "29\n",
      "4147\n"
     ]
    }
   ],
   "source": [
    "'''\n",
    "求最大公约数和最小公倍数\n",
    "'''\n",
    "class Solution:\n",
    "    def gcd(self,a,b):\n",
    "        '''\n",
    "        辗转相除法\n",
    "        '''\n",
    "        return a if b==0 else self.gcd(b,a%b)\n",
    "    def lcm(self,a,b):\n",
    "        '''\n",
    "        最小公倍数等于两束相乘除以最大公约数\n",
    "        '''\n",
    "        return a*b//self.gcd(b,a%b)\n",
    "s=Solution()\n",
    "a=[319,377]\n",
    "a.sort(reverse=True)\n",
    "print(s.gcd(*a))\n",
    "print(s.lcm(*a))\n"
   ]
  },
  {
   "cell_type": "code",
   "execution_count": 11,
   "metadata": {},
   "outputs": [
    {
     "data": {
      "text/plain": [
       "'202'"
      ]
     },
     "execution_count": 11,
     "metadata": {},
     "output_type": "execute_result"
    }
   ],
   "source": [
    "'''\n",
    "Base 7\n",
    "题目描述：7进制转换\n",
    "'''\n",
    "class Solution:\n",
    "    def convertToBase7(self,num):\n",
    "        if num == 0:\n",
    "            return \"0\"\n",
    "        isNegative=True if num<0 else False\n",
    "        num=num if not isNegative else -num\n",
    "        L=[]\n",
    "        while num>0:\n",
    "            L.append(str(num%7))\n",
    "            num//=7\n",
    "        resStr=\"\".join(L)[::-1]\n",
    "        return resStr if not isNegative else \"-\"+resStr\n",
    "s=Solution()\n",
    "s.convertToBase7(100)"
   ]
  },
  {
   "cell_type": "code",
   "execution_count": 4,
   "metadata": {},
   "outputs": [
    {
     "name": "stdout",
     "output_type": "stream",
     "text": [
      "1a\n",
      "ffffffff\n"
     ]
    }
   ],
   "source": [
    "'''\n",
    "Convert a Number to Hexadecimal\n",
    "16进制转换,负数要用补码的形式\n",
    "补码符号位不变，原码取反加一\n",
    "假设整型为4个字节，32位，负数的补码表示值=原数+2^32\n",
    "'''\n",
    "class Solution:\n",
    "    def toHex(self,num):\n",
    "        if not num:return \"0\"\n",
    "        res=\"\"\n",
    "        if num<0:\n",
    "            num+=1<<32\n",
    "        while num>0:\n",
    "            last=num%16\n",
    "            if last<10:\n",
    "                res=str(last)+res\n",
    "            else:\n",
    "                res=chr(last-10+ord('a'))+res\n",
    "            num//=16\n",
    "        return res\n",
    "s=Solution()\n",
    "print(s.toHex(26))\n",
    "print(s.toHex(-1))"
   ]
  },
  {
   "cell_type": "code",
   "execution_count": 5,
   "metadata": {},
   "outputs": [
    {
     "data": {
      "text/plain": [
       "17603"
      ]
     },
     "execution_count": 5,
     "metadata": {},
     "output_type": "execute_result"
    }
   ],
   "source": [
    "'''\n",
    "Excel Sheet Column Title\n",
    "A->1\n",
    "B->2\n",
    "C->3\n",
    "...\n",
    "Z->26\n",
    "AA->27\n",
    "26进制 A是从1开始\n",
    "'''\n",
    "class Solution:\n",
    "    def titleToNumber(self,s):\n",
    "        sum1=0\n",
    "        for c in s:\n",
    "            sum1=sum1*26+ord(c)-ord('A')+1\n",
    "        return sum1\n",
    "s=Solution()\n",
    "print(s.titleToNumber(\"ZAA\"))\n",
    "'''\n",
    "Excel Sheet Column Title 2\n",
    "1->A\n",
    "...\n",
    "26->Z\n",
    "27->AA\n",
    "28->AB\n",
    "\n",
    "n-1转化为26进制\n",
    "'''\n",
    "class Solution:\n",
    "    def convertToTitle(self,n):\n",
    "        res=''\n",
    "        while n:\n",
    "            res=chr((n-1)%26+ord('A'))+res\n",
    "            n=(n-1)//26\n",
    "        return res\n",
    "    def convertToTitle2(self,n):\n",
    "        if n==0:\n",
    "            return \"\"\n",
    "        n-=1\n",
    "        return self.convertToTitle2(n//26)+chr(n%26+ord('A'))"
   ]
  },
  {
   "cell_type": "code",
   "execution_count": null,
   "metadata": {},
   "outputs": [],
   "source": [
    "                                                                                  "
   ]
  }
 ],
 "metadata": {
  "kernelspec": {
   "display_name": "Python 3",
   "language": "python",
   "name": "python3"
  },
  "language_info": {
   "codemirror_mode": {
    "name": "ipython",
    "version": 3
   },
   "file_extension": ".py",
   "mimetype": "text/x-python",
   "name": "python",
   "nbconvert_exporter": "python",
   "pygments_lexer": "ipython3",
   "version": "3.6.1"
  }
 },
 "nbformat": 4,
 "nbformat_minor": 2
}
