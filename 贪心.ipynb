{
 "cells": [
  {
   "cell_type": "code",
   "execution_count": 1,
   "metadata": {},
   "outputs": [
    {
     "name": "stdout",
     "output_type": "stream",
     "text": [
      "2\n"
     ]
    }
   ],
   "source": [
    "'''\n",
    "分配饼干\n",
    "题目描述：\n",
    "每个孩子都有一个满足度，每个饼干都有一个大小，\n",
    "只有饼干的大小大于等于一个孩子的满足度，该孩子才会获得满足。求解最多可以获得满足的孩子数量\n",
    "Input:[1,2],[1,2,3]\n",
    "Output:2\n",
    "思路：先满足最小的孩子\n",
    "'''\n",
    "def findContentChildren(g,s):\n",
    "    g.sort();s.sort()\n",
    "    i=j=0\n",
    "    while i<len(g) and j<len(s):\n",
    "        if s[j]>=g[i]:\n",
    "            i+=1\n",
    "        j+=1\n",
    "    return i\n",
    "print(findContentChildren([10,9,8,7],[7,8,5,6]))"
   ]
  },
  {
   "cell_type": "code",
   "execution_count": 2,
   "metadata": {},
   "outputs": [
    {
     "name": "stdout",
     "output_type": "stream",
     "text": [
      "1\n"
     ]
    }
   ],
   "source": [
    "'''\n",
    "不重叠的区间个数\n",
    "题目描述：计算让一组区间不重叠所需要移除的区间个数\n",
    "Input:[[1,2],[1,2],[1,2]]\n",
    "Output:2\n",
    "思路：在每次选择中，选择的区间结尾越小，留给后面的区间空间就越大，那么后面的能够选择的区间个数也越大，\n",
    "按照区间的结尾进行排序，每次选择结尾最小，并且和前一个区间不重叠的区间\n",
    "'''\n",
    "def eraseOverlapIntervals(intervals):\n",
    "    if not intervals:return 0\n",
    "    intervals.sort(key=lambda x:x[1])\n",
    "    cnt=1\n",
    "    curEnd=intervals[0][1]\n",
    "    for i in range(1,len(intervals)):\n",
    "        if curEnd<=intervals[i][0]:\n",
    "            cnt+=1\n",
    "            curEnd=intervals[i][1]\n",
    "    return len(intervals)-cnt\n",
    "print(eraseOverlapIntervals([[1,2],[2,3],[3,4],[1,3]]))"
   ]
  },
  {
   "cell_type": "code",
   "execution_count": 3,
   "metadata": {},
   "outputs": [
    {
     "name": "stdout",
     "output_type": "stream",
     "text": [
      "2\n"
     ]
    }
   ],
   "source": [
    "'''\n",
    "投飞镖刺破气球\n",
    "题目描述：气球在一个水平数轴上拜访，可以重叠，飞镖垂直投向坐标轴，当飞镖落到的点在气球区域内，则其被刺破。\n",
    "求解最小的投飞镖次数，使得所有气球都被刺破。\n",
    "Input:[[10,16],[2,8],[1,6],[7,12]]\n",
    "Output:2\n",
    "思路：当飞镖落到气球与气球重叠区域，则一次刺破数目最多，\n",
    "所以求不重叠的气球区间个数(形如[1,2],[2,3]也算重叠)\n",
    "'''\n",
    "def findMinArrowShots(points):\n",
    "    if not points:return 0\n",
    "    points.sort(key=lambda x:x[1])\n",
    "    cnt=1\n",
    "    curEnd=points[0][1]\n",
    "    for i in range(1,len(points)):\n",
    "        if curEnd<points[i][0]:\n",
    "            cnt+=1\n",
    "            curEnd=points[i][1]\n",
    "    return cnt\n",
    "print(findMinArrowShots([[10,16],[2,8],[1,6],[7,12]]))"
   ]
  },
  {
   "cell_type": "code",
   "execution_count": 5,
   "metadata": {},
   "outputs": [
    {
     "name": "stdout",
     "output_type": "stream",
     "text": [
      "[[5, 0], [7, 0], [5, 2], [6, 1], [4, 4], [7, 1]]\n"
     ]
    }
   ],
   "source": [
    "'''\n",
    "根据身高和序号重组队列\n",
    "题目描述：一个学生用两个分量(h,k) h表示身高，k表示排在前面的有k个学生的身高比他高或者一样高，按此排序\n",
    "Input:\n",
    "[[7,0],[4,4],[7,1],[5,0],[6,1],[5,2]]\n",
    "Output:\n",
    "[[5,0],[7,0],[5,2],[6,1],[4,4],[7,1]]\n",
    "思路：为了使插入操作不影响后续的操作，身高较高的学生应该先做插入操作\n",
    "'''\n",
    "def reconstructionQueue(people):\n",
    "    if people == None or not people or len(people[0])==0:\n",
    "        return []\n",
    "    people.sort(key=lambda x:(-x[0],x[1]))\n",
    "    res=[]\n",
    "    for p in people:\n",
    "        res.insert(p[1],p)\n",
    "    return res\n",
    "print(reconstructionQueue([[7,0],[4,4],[7,1],[5,0],[6,1],[5,2]]))"
   ]
  },
  {
   "cell_type": "code",
   "execution_count": 7,
   "metadata": {},
   "outputs": [
    {
     "name": "stdout",
     "output_type": "stream",
     "text": [
      "5\n",
      "14\n"
     ]
    }
   ],
   "source": [
    "'''\n",
    "买卖股票最大的收益\n",
    "题目描述：一次股票交易包含买入和卖出，只进行一次交易，求最大收益\n",
    "'''\n",
    "def maxProfit(prices):\n",
    "    if not prices:return 0\n",
    "    maxprofit=0\n",
    "    buyPrice=prices[0]\n",
    "    for i in range(1,len(prices)):\n",
    "        if buyPrice>prices[i]:\n",
    "            buyPrice=prices[i]\n",
    "        else:\n",
    "            maxprofit=max(maxprofit,prices[i]-buyPrice)\n",
    "    return maxprofit\n",
    "print(maxProfit([7,1,5,3,6,4]))\n",
    "'''\n",
    "买卖股票的最大收益II\n",
    "题目描述：可以进行多次交易，多次交易之间不能交叉进行，可以进行多次交易\n",
    "对于[a,b,c,d] 如果a<=b<=c<=d，那么最大的收益为d-a d-a=d-c+c-b+b-a,\n",
    "所以当prices[i]-prices[i-1]>0，就把prices[i]-prices[i-1]添加到收益中\n",
    "'''\n",
    "def maxProfit(prices):\n",
    "    if not prices:return 0\n",
    "    maxP=0\n",
    "    for i in range(1,len(prices)):\n",
    "        if prices[i]-prices[i-1]>0:\n",
    "            maxP+=prices[i]-prices[i-1]\n",
    "    return maxP\n",
    "print(maxProfit([7,10,5,2,9,13]))"
   ]
  },
  {
   "cell_type": "code",
   "execution_count": null,
   "metadata": {},
   "outputs": [],
   "source": []
  }
 ],
 "metadata": {
  "kernelspec": {
   "display_name": "Python 3",
   "language": "python",
   "name": "python3"
  },
  "language_info": {
   "codemirror_mode": {
    "name": "ipython",
    "version": 3
   },
   "file_extension": ".py",
   "mimetype": "text/x-python",
   "name": "python",
   "nbconvert_exporter": "python",
   "pygments_lexer": "ipython3",
   "version": "3.6.1"
  }
 },
 "nbformat": 4,
 "nbformat_minor": 2
}
