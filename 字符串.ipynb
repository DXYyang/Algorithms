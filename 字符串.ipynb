{
 "cells": [
  {
   "cell_type": "code",
   "execution_count": 4,
   "metadata": {},
   "outputs": [
    {
     "name": "stdout",
     "output_type": "stream",
     "text": [
      "True\n",
      "123abcd\n",
      "student a am I\n",
      "student a am I\n"
     ]
    }
   ],
   "source": [
    "'''\n",
    "字符串循环移位包含\n",
    "给定两个字符串s1和s2,要求判定s2是否能被s1做循环移位得到的字符串包含\n",
    "思路：s1进行循环移位的结果是s1s1的子字符串\n",
    "'''\n",
    "def issubShiftstr(str1,str2):\n",
    "    return str2 in str1+str1\n",
    "print(issubShiftstr(\"AABCD\",\"CDAA\"))\n",
    "'''\n",
    "将字符串向右循环移动k位\n",
    "思路：将字符串分割成末尾k位和其他，分别翻转拼接，最后整体翻转\n",
    "'''\n",
    "def leftkShift(str1,k):\n",
    "    left,right=str1[:len(str1)-k],str1[len(str1)-k:]\n",
    "    return (left[::-1]+right[::-1])[::-1]\n",
    "print(leftkShift(\"abcd123\",3))\n",
    "'''\n",
    "字符串中单词的翻转\n",
    "'''\n",
    "def wordInvert(str1):\n",
    "    return \" \".join(str1.split(\" \")[::-1])\n",
    "print(wordInvert(\"I am a student\"))\n",
    "def wordInvert2(str1):\n",
    "    #将每个单词进行翻转，然后将整个字符串翻转\n",
    "    def invert(word):\n",
    "        return word[::-1]\n",
    "    words=str1.split(\" \")\n",
    "    return \" \".join(list(map(invert,words)))[::-1]\n",
    "print(wordInvert2(\"I am a student\"))\n",
    "    \n",
    "        "
   ]
  },
  {
   "cell_type": "code",
   "execution_count": 5,
   "metadata": {},
   "outputs": [
    {
     "name": "stdout",
     "output_type": "stream",
     "text": [
      "7\n"
     ]
    }
   ],
   "source": [
    "'''\n",
    "两个字符串包含的字符是否完全相同\n",
    "'''\n",
    "def isAnagram(s,t):\n",
    "    a,b=[0]*26,[0]*26\n",
    "    for item in s:\n",
    "        a[ord(item)-97]+=1\n",
    "    for item in t:\n",
    "        b[ord(item)-97]+=1\n",
    "    return a==b\n",
    "'''\n",
    "计算一组字符集合可以组成的回文字符串的最大长度\n",
    "Input:\"abcccccdd\"\n",
    "Output:7\n",
    "思路：每个字符为偶数个可以用来构成回文字符串，\n",
    "当字符为奇数个时，能构成回文字符串的个数就是向下除2取整后再乘以2\n",
    "最后如果有剩余的字符串，拿一个填中间\n",
    "''' \n",
    "from collections import Counter\n",
    "def longestPalindrome(s):\n",
    "    cnts=dict(Counter(s))\n",
    "    res=0\n",
    "    for k,v in cnts.items():\n",
    "        res+=v//2*2\n",
    "    if res<len(s):res+=1\n",
    "    return res\n",
    "print(longestPalindrome('abccccdd'))"
   ]
  },
  {
   "cell_type": "code",
   "execution_count": 6,
   "metadata": {},
   "outputs": [
    {
     "name": "stdout",
     "output_type": "stream",
     "text": [
      "True\n",
      "False\n"
     ]
    }
   ],
   "source": [
    "'''\n",
    "字符串同构\n",
    "思路：记录一个字符上次出现的位置，如果两个字符串中的字符上次出现的位置一样，就是同构\n",
    "'''\n",
    "def islsomorphic(s,t):\n",
    "    pos_s,pos_t=[-1]*256,[-1]*256\n",
    "    for i in range(len(s)):\n",
    "        if pos_s[ord(s[i])]!=pos_t[ord(t[i])]:\n",
    "            return False\n",
    "        pos_s[ord(s[i])]=pos_t[ord(t[i])]=i\n",
    "    return True\n",
    "print(islsomorphic(\"egg\",\"add\"))\n",
    "print(islsomorphic(\"foo\",\"bar\"))"
   ]
  },
  {
   "cell_type": "code",
   "execution_count": 10,
   "metadata": {},
   "outputs": [
    {
     "name": "stdout",
     "output_type": "stream",
     "text": [
      "6\n"
     ]
    }
   ],
   "source": [
    "'''\n",
    "回文子字符串的个数\n",
    "思路：从字符串的某一位置开始，进行奇数和偶数的扩展\n",
    "'''\n",
    "class Solution:\n",
    "    cnt=0\n",
    "    def countSubstrings(self,s):\n",
    "        for i in range(len(s)):\n",
    "            self.extendstr(s,i,i)\n",
    "            self.extendstr(s,i,i+1)\n",
    "        return Solution.cnt    \n",
    "    def extendstr(self,s,start,end):\n",
    "        while start>=0 and end<=len(s)-1 and s[start]==s[end]:\n",
    "            start-=1\n",
    "            end+=1\n",
    "            Solution.cnt+=1\n",
    "A=Solution()\n",
    "print(A.countSubstrings(\"aaa\"))"
   ]
  },
  {
   "cell_type": "code",
   "execution_count": 2,
   "metadata": {},
   "outputs": [
    {
     "name": "stdout",
     "output_type": "stream",
     "text": [
      "True\n",
      "6\n"
     ]
    }
   ],
   "source": [
    "'''\n",
    "判断一个整数是否为回文数\n",
    "要求：不能使用额外空间，也不能将整数转换为字符串进行判断\n",
    "思路：从右侧重新构造数，看是否和原数相等\n",
    "'''\n",
    "def isPalindrome(x):\n",
    "    if x<0:return False\n",
    "    i=0\n",
    "    j=x\n",
    "    while j>0:\n",
    "        i=i*10+j%10\n",
    "        j=j//10\n",
    "    return i==x\n",
    "print(isPalindrome(121))\n",
    "'''\n",
    "统计二进制字符串中连续1和连续0数量相同的子字符串个数(0和1必须分组连续)\n",
    "Input:00110011\n",
    "Output:6\n",
    "\"0011\",\"01\",\"1100\",\"10\",\"0011\"\n",
    "'''\n",
    "def countBinarySubstrings(s):\n",
    "    preLen=cnt=0;curLen=1\n",
    "    for i in range(1,len(s)):\n",
    "        if s[i]==s[i-1]:\n",
    "            curLen+=1\n",
    "        else:\n",
    "            preLen=curLen\n",
    "            curLen=1\n",
    "        if preLen>=curLen:\n",
    "            cnt+=1\n",
    "    return cnt\n",
    "print(countBinarySubstrings(\"00110011\"))"
   ]
  },
  {
   "cell_type": "code",
   "execution_count": null,
   "metadata": {},
   "outputs": [],
   "source": []
  }
 ],
 "metadata": {
  "kernelspec": {
   "display_name": "Python 3",
   "language": "python",
   "name": "python3"
  },
  "language_info": {
   "codemirror_mode": {
    "name": "ipython",
    "version": 3
   },
   "file_extension": ".py",
   "mimetype": "text/x-python",
   "name": "python",
   "nbconvert_exporter": "python",
   "pygments_lexer": "ipython3",
   "version": "3.6.1"
  }
 },
 "nbformat": 4,
 "nbformat_minor": 2
}
