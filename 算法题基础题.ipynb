{
 "cells": [
  {
   "cell_type": "code",
   "execution_count": 4,
   "metadata": {},
   "outputs": [
    {
     "name": "stdout",
     "output_type": "stream",
     "text": [
      "2\n"
     ]
    }
   ],
   "source": [
    "'''\n",
    "计算列表中整数乘积末尾为0的个数\n",
    "输入:[5,2,9,85,33,8]\n",
    "输出:1\n",
    "思路:一个2*5得到一个末尾为0，统计相乘得到的数有多少个2*5=>遍历每一个数，累加能被2整除和能被5整除的次数，取两者的最小值\n",
    "'''\n",
    "def cntEndZero(a):\n",
    "    cnt=[0,0]\n",
    "    for i in a:\n",
    "        while i%2==0:\n",
    "            i/=2\n",
    "            cnt[0]+=1\n",
    "        while i%5==0:\n",
    "            i/=5\n",
    "            cnt[1]+=1\n",
    "    return min(cnt[0],cnt[1])\n",
    "print(cntEndZero([5,2,9,85,33,8]))\n",
    "        \n",
    "    \n"
   ]
  },
  {
   "cell_type": "code",
   "execution_count": 23,
   "metadata": {},
   "outputs": [
    {
     "name": "stdout",
     "output_type": "stream",
     "text": [
      "[1, 2, 3, 4, 5, 8]\n",
      "[1, 2, 3, 4, 5, 8]\n",
      "[1, 2, 3, 4, 5, 8]\n",
      "[1, 2, 3, 4, 5, 8]\n",
      "-1\n",
      "6\n"
     ]
    }
   ],
   "source": [
    "'''\n",
    "快排\n",
    "'''\n",
    "def quicksort(a):\n",
    "    if len(a)<2:\n",
    "        return a\n",
    "    else:\n",
    "        midpivot=a[0]\n",
    "        lessmid=[i for i in a[1:] if i<=midpivot]\n",
    "        moremid=[i for i in a[1:] if i>midpivot]\n",
    "        finalList=quicksort(lessmid)+[midpivot]+quicksort(moremid)\n",
    "        return finalList\n",
    "print(quicksort([2,5,1,3,8,4]))\n",
    "'''\n",
    "归并\n",
    "'''\n",
    "def mergesort(a):\n",
    "    def merge(b,c):\n",
    "        i=j=0\n",
    "        res=[]\n",
    "        while i<len(b) and j<len(c):\n",
    "            if b[i]<c[j]:\n",
    "                res.append(b[i]);i+=1\n",
    "            else:\n",
    "                res.append(c[j]);j+=1\n",
    "        if i<len(b):res.extend(b[i:])\n",
    "        if j<len(c):res.extend(c[j:])\n",
    "        return res\n",
    "    if len(a)<2:return a\n",
    "    else:\n",
    "        mid=len(a)//2\n",
    "        leftPart=mergesort(a[:mid])\n",
    "        rightPart=mergesort(a[mid:])\n",
    "        return merge(leftPart,rightPart)\n",
    "print(mergesort([2,5,1,3,8,4]))\n",
    "'''\n",
    "堆排序\n",
    "'''\n",
    "def heapsort(a):\n",
    "    def shiftdown(start,end):\n",
    "        tmp=a[start]\n",
    "        i=start\n",
    "        j=2*i+1\n",
    "        while j<=end:\n",
    "            j=j+1 if j<end and a[j]<a[j+1] else j\n",
    "            if tmp<a[j]:\n",
    "                a[i]=a[j]\n",
    "                i=j;j=2*j+1\n",
    "            else:break\n",
    "        a[i]=tmp\n",
    "    for i in range((len(a)-2)//2,-1,-1):\n",
    "        shiftdown(i,len(a)-1)\n",
    "    for i in range(len(a)-1,-1,-1):\n",
    "        shiftdown(0,i)\n",
    "        a[0],a[i]=a[i],a[0]\n",
    "    return a\n",
    "print(heapsort([2,5,1,3,8,4]))\n",
    "'''\n",
    "冒泡\n",
    "'''\n",
    "def bubblesort(a):\n",
    "    for i in range(1,len(a)):\n",
    "        flag=False\n",
    "        for j in range(0,len(a)-i):\n",
    "            if a[j]>a[j+1]:\n",
    "                a[j],a[j+1]=a[j+1],a[j]\n",
    "                flag=True\n",
    "        if not flag:break\n",
    "    return a\n",
    "print(bubblesort([2,5,1,3,8,4]))\n",
    "'''\n",
    "有序数组的二分查找\n",
    "'''\n",
    "def binarySearch(a,x):\n",
    "    res=-1\n",
    "    low,high=0,len(a)-1\n",
    "    \n",
    "    while low<=high:\n",
    "        mid=(low+high)//2\n",
    "        if a[mid]<x:\n",
    "            low=mid+1\n",
    "        elif a[mid]>x:\n",
    "            high=mid-1\n",
    "        else:\n",
    "            res=mid\n",
    "            break\n",
    "    return res\n",
    "def binarySearchRecursive(x,a,low,high):\n",
    "    res=-1\n",
    "    if low<=high:\n",
    "        mid=(low+high)//2\n",
    "        if a[mid]<x:\n",
    "            res=binarySearchRecursive(x,a,mid+1,high)\n",
    "        elif a[mid]>x:\n",
    "            res=binarySearchRecursive(x,a,low,mid-1)\n",
    "        else:\n",
    "            res=mid\n",
    "    return res\n",
    "print(binarySearch([1,2,3,4,5,6,7],10))\n",
    "a=[1,2,3,4,5,6,7]\n",
    "print(binarySearchRecursive(7,a,0,len(a)-1))"
   ]
  },
  {
   "cell_type": "code",
   "execution_count": 3,
   "metadata": {},
   "outputs": [
    {
     "name": "stdout",
     "output_type": "stream",
     "text": [
      "3\n"
     ]
    }
   ],
   "source": [
    "'''\n",
    "在一个长度为n的数组里的所有数字都在0到n-1的范围内。\n",
    "数组中某些数字是重复的，但不知道有几个数字是重复的，\n",
    "也不知道每个数字重复几次。请找出数组中任意一个重复的数字。\n",
    "Input:[2,3,1,0,2,5]\n",
    "Output:2\n",
    "要求时间复杂度为O(N),空间复杂度为O(1)\n",
    "思路：把值为i的元素调整到第i个位置上，\n",
    "然后将交换过来的数a[index]与index比对，\n",
    "a[index]!=index 保证a[index]和a[a[index]]为两个不同位置上的数，相等则重复\n",
    "'''\n",
    "def repeatNum(a):\n",
    "    for index,value in enumerate(a):\n",
    "        if index!=value:\n",
    "            a[index],a[value]=a[value],a[index]\n",
    "        if index!=a[index] and a[index]==a[a[index]]:\n",
    "            return a[index]\n",
    "print(repeatNum([3,3,1,0,2,5]))\n"
   ]
  },
  {
   "cell_type": "code",
   "execution_count": 1,
   "metadata": {},
   "outputs": [
    {
     "name": "stdout",
     "output_type": "stream",
     "text": [
      "True False\n"
     ]
    }
   ],
   "source": [
    "'''\n",
    "二维数组中的查找\n",
    "\n",
    "给定一个二维数组，其每一行从左到右递增排序，从上到下也是递增排序。\n",
    "再给一个数，判断这个数是否在该二维数组中。\n",
    "Input:[\n",
    "[1,4,7,11,15],\n",
    "[2,5,8,12,19],\n",
    "[3,6,9,16,22],\n",
    "[10,13,14,17,24],\n",
    "[18,21,23,26,30]\n",
    "]\n",
    "given target=13 return True\n",
    "given target=20 return False\n",
    "时间复杂度:O(m+n) 空间复杂度O(1)\n",
    "思路：从右上角开始搜索，比target大的数在下方，比target小的数在左方\n",
    "'''\n",
    "def find(target,matrix):\n",
    "    row,col=len(matrix),len(matrix[0])\n",
    "    if matrix is None or row==0 or col==0:\n",
    "        return False\n",
    "    r,c=0,col-1\n",
    "    while r<row and c>=0:\n",
    "        if target==matrix[r][c]:return True\n",
    "        elif target>matrix[r][c]:r+=1\n",
    "        else:c-=1\n",
    "    return False\n",
    "m=[\n",
    "[1,4,7,11,15],\n",
    "[2,5,8,12,19],\n",
    "[3,6,9,16,22],\n",
    "[10,13,14,17,24],\n",
    "[18,21,23,26,30]\n",
    "]\n",
    "print(find(13,m),find(20,m))"
   ]
  },
  {
   "cell_type": "code",
   "execution_count": 10,
   "metadata": {},
   "outputs": [
    {
     "name": "stdout",
     "output_type": "stream",
     "text": [
      "A%20B%20C%20D\n"
     ]
    }
   ],
   "source": [
    "'''\n",
    "将一个字符串中的空格替换成\"%20”\n",
    "Input:\n",
    "\"A B C D\"\n",
    "Output:\n",
    "\"A%20B%20C%20D\"\n",
    "思路：\n",
    "在字符串的尾部填充任意字符，使得字符串的长度等于替换之后的长度\n",
    "一个空格替换成三个字符，所以要增加任意两个字符。\n",
    "p1指向原字符串的末尾，p2指向添加后的字符串\n",
    "当p1为空字符串的时候，依次填充%20;不为空则填充原字符\n",
    "(当p1==p2时，k个空格被填充完毕,初始p2,p1相差2k，当遇到空格时,p2比p1多移动2格)\n",
    "'''\n",
    "def replaceSpace(str1):\n",
    "    p1=len(str1)-1\n",
    "    slist=list(str1)\n",
    "    for s in str1:\n",
    "        if s==' ':slist.extend([' ',' ']) \n",
    "    p2=len(slist)-1\n",
    "    while p1>=0 and p1<p2:\n",
    "        tmp=slist[p1]\n",
    "        p1-=1\n",
    "        if tmp==' ':\n",
    "            slist[p2]='0';p2-=1\n",
    "            slist[p2]='2';p2-=1\n",
    "            slist[p2]='%';p2-=1\n",
    "        else:\n",
    "            slist[p2]=tmp;p2-=1\n",
    "    return ''.join(slist)\n",
    "print(replaceSpace(\"A B C D\"))\n",
    "    "
   ]
  },
  {
   "cell_type": "code",
   "execution_count": null,
   "metadata": {},
   "outputs": [],
   "source": []
  }
 ],
 "metadata": {
  "kernelspec": {
   "display_name": "Python 3",
   "language": "python",
   "name": "python3"
  },
  "language_info": {
   "codemirror_mode": {
    "name": "ipython",
    "version": 3
   },
   "file_extension": ".py",
   "mimetype": "text/x-python",
   "name": "python",
   "nbconvert_exporter": "python",
   "pygments_lexer": "ipython3",
   "version": "3.6.1"
  }
 },
 "nbformat": 4,
 "nbformat_minor": 2
}
