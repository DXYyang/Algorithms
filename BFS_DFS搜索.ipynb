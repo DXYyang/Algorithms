{
 "cells": [
  {
   "cell_type": "code",
   "execution_count": 9,
   "metadata": {},
   "outputs": [
    {
     "name": "stdout",
     "output_type": "stream",
     "text": [
      "5\n"
     ]
    }
   ],
   "source": [
    "'''\n",
    "BFS\n",
    "'''\n",
    "'''\n",
    "计算在网格中从原点到特定点的最短路径长度 (1表示可以经过某个位置)\n",
    "Input:[[1,1,0,1],\n",
    "      [1,0,1,0],\n",
    "      [1,1,1,1],\n",
    "      [1,0,1,1]]\n",
    "'''\n",
    "def minPathLength(grids,m,n):\n",
    "    if not grids or len(grids[0])==0:return -1\n",
    "    direction=[[1,0],[-1,0],[0,1],[0,-1]]\n",
    "    row,col=len(grids),len(grids[0])\n",
    "    queue=[[0,0]]\n",
    "    minLength=0\n",
    "    while len(queue)>=0:\n",
    "        qsize=len(queue)\n",
    "        minLength+=1\n",
    "        while qsize>0:\n",
    "            cur_r,cur_c=queue.pop(0)\n",
    "            grids[cur_r][cur_c]=0\n",
    "            for d in direction:\n",
    "                new_r,new_c=cur_r+d[0],cur_c+d[1]\n",
    "                if new_r<0 or new_r>=row or new_c<0 or new_c>=col\\\n",
    "                                    or grids[new_r][new_c]==0:\n",
    "                    continue\n",
    "                if new_r == m and new_c ==n:\n",
    "                    return minLength\n",
    "                queue.append([new_r,new_c])\n",
    "            qsize-=1\n",
    "    return -1\n",
    "grids=[[1,1,0,1],\n",
    "           [1,0,1,0],\n",
    "           [1,1,1,1],\n",
    "           [1,0,1,1]]\n",
    "print(minPathLength(grids,1,2))\n",
    "            "
   ]
  },
  {
   "cell_type": "code",
   "execution_count": 12,
   "metadata": {},
   "outputs": [
    {
     "name": "stdout",
     "output_type": "stream",
     "text": [
      "3\n"
     ]
    }
   ],
   "source": [
    "'''\n",
    "组成整数的最小平方数数量\n",
    "Input:12\n",
    "Output:3(4+4+4)\n",
    "Input:13\n",
    "Output:2(4+9)\n",
    "思路：将每个整数看成图中的一个节点，如果两个整数之差为一个平方数，那么这两个整数所在的节点就有一条边\n",
    "要求解最小的平方数数量，就是求解从节点n到节点0之间的最短路径\n",
    "'''\n",
    "class Solution:\n",
    "    def numSquares(self,n):\n",
    "        squares=self.getSquare(n)\n",
    "        cnt=0\n",
    "        mark=[False]*(n+1)\n",
    "        queue=[n]\n",
    "        mark[n]=True\n",
    "        while len(queue)!=0:\n",
    "            cnt+=1\n",
    "            size=len(queue)\n",
    "            while size>0:\n",
    "                cur=queue.pop(0)\n",
    "                for s in squares:\n",
    "                    nextNum=cur-s\n",
    "                    if nextNum<0:\n",
    "                        break\n",
    "                    if nextNum == 0:\n",
    "                        return cnt\n",
    "                    if mark[nextNum] == True:\n",
    "                        continue\n",
    "                    mark[nextNum]=True\n",
    "                    queue.append(nextNum)\n",
    "                size-=1\n",
    "        return n\n",
    "    def getSquare(self,n):\n",
    "        square,diff=1,3\n",
    "        squares=[]\n",
    "        while square<=n:\n",
    "            squares.append(square)\n",
    "            square+=diff\n",
    "            diff+=2\n",
    "        return squares\n",
    "S=Solution()\n",
    "print(S.numSquares(12))\n",
    "\n",
    "\n",
    "\n"
   ]
  },
  {
   "cell_type": "code",
   "execution_count": 14,
   "metadata": {},
   "outputs": [
    {
     "name": "stdout",
     "output_type": "stream",
     "text": [
      "5\n"
     ]
    }
   ],
   "source": [
    "'''\n",
    "最短单词路径\n",
    "题目描述：找出一条从beginWord到endWord的最短路径，每次移动规定为改变一个字符，\n",
    "        并且改变之后的字符串必须在wordList中\n",
    "Input:\n",
    "beginWord=\"hit\"\n",
    "endWord=\"cog\"\n",
    "wordList=[\"hot\",\"dot\",\"dog\",\"lot\",\"log\",\"cog\"]\n",
    "Output:5\n",
    "hit->hot->dot->dog->cog\n",
    "'''\n",
    "from collections import defaultdict,deque\n",
    "def ladderLength(beginWord,endWord,wordList):\n",
    "    if endWord not in wordList or not endWord or not beginWord or not wordList:\n",
    "        return 0\n",
    "    L=len(beginWord)\n",
    "    all_combo_dict=defaultdict(list)\n",
    "    for word in wordList:\n",
    "        for i in range(L):\n",
    "            all_combo_dict[word[:i]+\"*\"+word[i+1:]].append(word)\n",
    "    queue=deque([(beginWord,1)])\n",
    "    visited={beginWord:True}\n",
    "    while queue:\n",
    "        current_word,level=queue.popleft()\n",
    "        for i in range(L):\n",
    "            intermediate_word=current_word[:i]+\"*\"+current_word[i+1:]\n",
    "            for word in all_combo_dict[intermediate_word]:\n",
    "                if word ==endWord:\n",
    "                    return level+1\n",
    "                if word not in visited:\n",
    "                    visited[word]=True\n",
    "                    queue.append((word,level+1))\n",
    "            all_combo_dict[intermediate_word]=[]\n",
    "    return 0\n",
    "print(ladderLength(\"hit\",\"cog\",[\"hot\",\"dot\",\"dog\",\"lot\",\"log\",\"cog\"]))"
   ]
  },
  {
   "cell_type": "code",
   "execution_count": null,
   "metadata": {},
   "outputs": [],
   "source": []
  }
 ],
 "metadata": {
  "kernelspec": {
   "display_name": "Python 3",
   "language": "python",
   "name": "python3"
  },
  "language_info": {
   "codemirror_mode": {
    "name": "ipython",
    "version": 3
   },
   "file_extension": ".py",
   "mimetype": "text/x-python",
   "name": "python",
   "nbconvert_exporter": "python",
   "pygments_lexer": "ipython3",
   "version": "3.6.1"
  }
 },
 "nbformat": 4,
 "nbformat_minor": 2
}
