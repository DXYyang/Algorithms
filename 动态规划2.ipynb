{
 "cells": [
  {
   "cell_type": "code",
   "execution_count": 9,
   "metadata": {},
   "outputs": [
    {
     "name": "stdout",
     "output_type": "stream",
     "text": [
      "8\n",
      "10\n",
      "10\n"
     ]
    }
   ],
   "source": [
    "'''\n",
    "最长公共子序列\n",
    "题目描述：对于两个子序列S1和S2，找到它们最长的公共子序列\n",
    "dp[i][j]:S1的前i个字符与S2的前j个字符最长公共子序列的长度\n",
    "'''\n",
    "class Solution:\n",
    "    def LengthOfLCS(self,str1,str2):\n",
    "        N,M=len(str1),len(str2)\n",
    "        dp=[[0]*(M+1) for _ in range(N+1)]\n",
    "        for i in range(1,N+1):\n",
    "            for j in range(1,M+1):\n",
    "                if str1[i-1]==str2[j-1]:\n",
    "                    dp[i][j]=dp[i-1][j-1]+1\n",
    "                else:\n",
    "                    dp[i][j]=max(dp[i-1][j],dp[i][j-1])\n",
    "        return dp[N][M]\n",
    "s=Solution()\n",
    "print(s.LengthOfLCS(\"acdabfddfds\",\"addagfddcds\"))\n",
    "'''\n",
    "0-1背包问题\n",
    "题目描述：有一个容量为N的背包，要使用这个背包装下物品的价值最大，这些物品有两个属性：体积w和价值v。\n",
    "'''\n",
    "class Solution:\n",
    "    def knapsack(self,W,N,weights,values):\n",
    "        dp=[[0]*(W+1) for _ in range(N+1)]\n",
    "        for i in range(1,N+1):\n",
    "            w,v=weights[i-1],values[i-1]\n",
    "            for j in range(1,W+1):\n",
    "                if j>=w:\n",
    "                    dp[i][j]=max(dp[i-1][j],dp[i-1][j-w]+v)\n",
    "                else:\n",
    "                    dp[i][j]=dp[i-1][j]\n",
    "        return dp[N][W]\n",
    "    def knapsack2(self,W,N,weights,values):\n",
    "        '''\n",
    "        空间优化 dp[j]=max(dp[j],dp[j-w]+v)\n",
    "        因为dp更新依赖于dp[j-w]，所以要倒序更新，防止更新后的值再次被用到\n",
    "        '''\n",
    "        dp=[0]*(W+1)\n",
    "        for i in range(1,N+1):\n",
    "            w,v=weights[i-1],values[i-1]\n",
    "            for j in range(W,0,-1):\n",
    "                if j>=w:\n",
    "                    dp[j]=max(dp[j],dp[j-w]+v)\n",
    "        return dp[W]\n",
    "s=Solution()\n",
    "print(s.knapsack(8,4,[2,3,4,5],[3,4,5,6]))\n",
    "print(s.knapsack2(8,4,[2,3,4,5],[3,4,5,6]))"
   ]
  },
  {
   "cell_type": "code",
   "execution_count": 12,
   "metadata": {},
   "outputs": [
    {
     "name": "stdout",
     "output_type": "stream",
     "text": [
      "True\n",
      "True\n",
      "True\n"
     ]
    }
   ],
   "source": [
    "'''\n",
    "Partition Equal Subset Sum\n",
    "题目描述:判断是否可以把一组数字分为两堆，两堆数字的和相等\n",
    "'''\n",
    "class Solution:\n",
    "    def canPartition_DFS(self,nums):\n",
    "        _sum=sum(nums)\n",
    "        div,mod=divmod(_sum,2)\n",
    "        if mod or max(nums)>div:return False\n",
    "        nums.sort(reverse=True)\n",
    "        target=[div]*2\n",
    "        return self.dfs(nums,0,target)\n",
    "    def dfs(self,nums,index,target):\n",
    "        '''\n",
    "        dfs 每次把当前数放到第一个或第二个列表中\n",
    "        '''\n",
    "        for i in range(2):\n",
    "            if target[i]>=nums[index]:\n",
    "                target[i]-=nums[index]\n",
    "                if target[i]==0 or self.dfs(nums,index+1,target):return True\n",
    "                target[i]+=nums[index]\n",
    "        return False\n",
    "    \n",
    "    def canPartition_DP1(self,nums):\n",
    "        '''\n",
    "        dp[i][j]使用前i个数字能否构成目标为j的和\n",
    "        dp[i][j]=dp[i-1][j]||dp[i-1][j-nums[i-1]]\n",
    "        '''\n",
    "        _sum=sum(nums)\n",
    "        div,mod=divmod(_sum,2)\n",
    "        if mod or max(nums)>div:return False\n",
    "        dp=[[False]*(div+1) for _ in range(len(nums)+1)]\n",
    "        dp[0][0]=True\n",
    "        for i in range(1,len(nums)+1):\n",
    "            dp[i][0]=True\n",
    "        for j in range(1,div+1):\n",
    "            dp[0][j]=False\n",
    "        for i in range(1,len(nums)+1):\n",
    "            for j in range(1,div+1):\n",
    "                if j>=nums[i-1]:\n",
    "                    dp[i][j]=dp[i-1][j] or dp[i-1][j-nums[i-1]]\n",
    "                else:\n",
    "                    dp[i][j]=dp[i-1][j]\n",
    "        return dp[len(nums)][div]\n",
    "    \n",
    "    def canPartition_DP2(self,nums):\n",
    "        _sum=sum(nums)\n",
    "        div,mod=divmod(_sum,2)\n",
    "        if mod or max(nums)>div:return False\n",
    "        dp=[False]*(div+1)\n",
    "        dp[0]=True\n",
    "        for i in range(1,len(nums)+1):\n",
    "            for j in range(div,0,-1):\n",
    "                if j>=nums[i-1]:\n",
    "                    dp[j]=dp[j] or dp[j-nums[i-1]]\n",
    "        return dp[div]\n",
    "        \n",
    "        \n",
    "s=Solution()\n",
    "print(s.canPartition_DFS([5,5,4,6]))\n",
    "print(s.canPartition_DP1([5,5,4,6]))\n",
    "print(s.canPartition_DP2([5,5,4,6]))"
   ]
  },
  {
   "cell_type": "code",
   "execution_count": null,
   "metadata": {},
   "outputs": [],
   "source": []
  },
  {
   "cell_type": "code",
   "execution_count": null,
   "metadata": {},
   "outputs": [],
   "source": []
  }
 ],
 "metadata": {
  "kernelspec": {
   "display_name": "Python 3",
   "language": "python",
   "name": "python3"
  },
  "language_info": {
   "codemirror_mode": {
    "name": "ipython",
    "version": 3
   },
   "file_extension": ".py",
   "mimetype": "text/x-python",
   "name": "python",
   "nbconvert_exporter": "python",
   "pygments_lexer": "ipython3",
   "version": "3.6.1"
  }
 },
 "nbformat": 4,
 "nbformat_minor": 2
}
