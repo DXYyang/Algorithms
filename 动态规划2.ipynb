{
 "cells": [
  {
   "cell_type": "code",
   "execution_count": 5,
   "metadata": {},
   "outputs": [
    {
     "name": "stdout",
     "output_type": "stream",
     "text": [
      "8\n",
      "10\n"
     ]
    }
   ],
   "source": [
    "'''\n",
    "最长公共子序列\n",
    "题目描述：对于两个子序列S1和S2，找到它们最长的公共子序列\n",
    "dp[i][j]:S1的前i个字符与S2的前j个字符最长公共子序列的长度\n",
    "'''\n",
    "class Solution:\n",
    "    def LengthOfLCS(self,str1,str2):\n",
    "        N,M=len(str1),len(str2)\n",
    "        dp=[[0]*(M+1) for _ in range(N+1)]\n",
    "        for i in range(1,N+1):\n",
    "            for j in range(1,M+1):\n",
    "                if str1[i-1]==str2[j-1]:\n",
    "                    dp[i][j]=dp[i-1][j-1]+1\n",
    "                else:\n",
    "                    dp[i][j]=max(dp[i-1][j],dp[i][j-1])\n",
    "        return dp[N][M]\n",
    "s=Solution()\n",
    "print(s.LengthOfLCS(\"acdabfddfds\",\"addagfddcds\"))\n",
    "'''\n",
    "0-1背包问题\n",
    "题目描述：有一个容量为N的背包，要使用这个背包装下物品的价值最大，这些物品有两个属性：体积w和价值v。\n",
    "'''\n",
    "class Solution:\n",
    "    def knapsack(self,W,N,weights,values):\n",
    "        dp=[[0]*(W+1) for _ in range(N+1)]\n",
    "        for i in range(1,N+1):\n",
    "            w,v=weights[i-1],values[i-1]\n",
    "            for j in range(1,W+1):\n",
    "                if j>=w:\n",
    "                    dp[i][j]=max(dp[i-1][j],dp[i-1][j-w]+v)\n",
    "                else:\n",
    "                    dp[i][j]=dp[i-1][j]\n",
    "        return dp[N][W]\n",
    "s=Solution()\n",
    "print(s.knapsack(8,4,[2,3,4,5],[3,4,5,6]))"
   ]
  },
  {
   "cell_type": "code",
   "execution_count": null,
   "metadata": {},
   "outputs": [],
   "source": []
  },
  {
   "cell_type": "code",
   "execution_count": null,
   "metadata": {},
   "outputs": [],
   "source": []
  }
 ],
 "metadata": {
  "kernelspec": {
   "display_name": "Python 3",
   "language": "python",
   "name": "python3"
  },
  "language_info": {
   "codemirror_mode": {
    "name": "ipython",
    "version": 3
   },
   "file_extension": ".py",
   "mimetype": "text/x-python",
   "name": "python",
   "nbconvert_exporter": "python",
   "pygments_lexer": "ipython3",
   "version": "3.6.1"
  }
 },
 "nbformat": 4,
 "nbformat_minor": 2
}
