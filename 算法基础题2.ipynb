{
 "cells": [
  {
   "cell_type": "code",
   "execution_count": 3,
   "metadata": {},
   "outputs": [
    {
     "name": "stdout",
     "output_type": "stream",
     "text": [
      "3\n",
      "3\n"
     ]
    }
   ],
   "source": [
    "'''\n",
    "斐波那切数列\n",
    "'''\n",
    "def Fibonacci(n):\n",
    "    if n<=1:\n",
    "        return n\n",
    "    fib=[0]*(n+1)\n",
    "    fib[1]=1\n",
    "    for i in range(2,n+1):\n",
    "        fib[i]=fib[i-1]+fib[i-2]\n",
    "    return fib[n]\n",
    "print(Fibonacci(4))\n",
    "\n",
    "def Fibonacci2(n):\n",
    "    if n<=1:\n",
    "        return n\n",
    "    pre2,pre1=0,1\n",
    "    fib=0\n",
    "    for i in range(2,n+1):\n",
    "        fib=pre2+pre1\n",
    "        pre2,pre1=pre1,fib\n",
    "    return fib\n",
    "print(Fibonacci2(4))"
   ]
  },
  {
   "cell_type": "code",
   "execution_count": 4,
   "metadata": {},
   "outputs": [
    {
     "name": "stdout",
     "output_type": "stream",
     "text": [
      "3\n"
     ]
    }
   ],
   "source": [
    "'''\n",
    "矩阵覆盖：\n",
    "用2*1的小矩阵横着或者竖着去覆盖更大的矩形。请问用n个2*1的小矩阵无重叠地覆盖一个2*n的大矩形\n",
    "总共有多少种方法？\n",
    "思路：当n=1时，只有一种覆盖方法，当n=2时，有两种覆盖方法。要覆盖2*n大矩形，可以先覆盖2*1的矩形\n",
    "再覆盖2*(n-1)的矩形，或者先覆盖2*2的矩形，再覆盖2*(n-2)的矩形\n",
    "'''\n",
    "def RectCover(n):\n",
    "    if n<=2:return n\n",
    "    pre2=1;pre1=2;\n",
    "    result=0\n",
    "    for i in range(3,n+1):\n",
    "        result=pre2+pre1\n",
    "        pre2=pre1\n",
    "        pre1=result\n",
    "    return result\n",
    "print(RectCover(3))"
   ]
  },
  {
   "cell_type": "code",
   "execution_count": null,
   "metadata": {},
   "outputs": [],
   "source": []
  }
 ],
 "metadata": {
  "kernelspec": {
   "display_name": "Python 3",
   "language": "python",
   "name": "python3"
  },
  "language_info": {
   "codemirror_mode": {
    "name": "ipython",
    "version": 3
   },
   "file_extension": ".py",
   "mimetype": "text/x-python",
   "name": "python",
   "nbconvert_exporter": "python",
   "pygments_lexer": "ipython3",
   "version": "3.6.1"
  }
 },
 "nbformat": 4,
 "nbformat_minor": 2
}
