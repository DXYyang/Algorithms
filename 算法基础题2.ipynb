{
 "cells": [
  {
   "cell_type": "code",
   "execution_count": 3,
   "metadata": {},
   "outputs": [
    {
     "name": "stdout",
     "output_type": "stream",
     "text": [
      "3\n",
      "3\n"
     ]
    }
   ],
   "source": [
    "'''\n",
    "斐波那切数列\n",
    "'''\n",
    "def Fibonacci(n):\n",
    "    if n<=1:\n",
    "        return n\n",
    "    fib=[0]*(n+1)\n",
    "    fib[1]=1\n",
    "    for i in range(2,n+1):\n",
    "        fib[i]=fib[i-1]+fib[i-2]\n",
    "    return fib[n]\n",
    "print(Fibonacci(4))\n",
    "\n",
    "def Fibonacci2(n):\n",
    "    if n<=1:\n",
    "        return n\n",
    "    pre2,pre1=0,1\n",
    "    fib=0\n",
    "    for i in range(2,n+1):\n",
    "        fib=pre2+pre1\n",
    "        pre2,pre1=pre1,fib\n",
    "    return fib\n",
    "print(Fibonacci2(4))"
   ]
  },
  {
   "cell_type": "code",
   "execution_count": 4,
   "metadata": {},
   "outputs": [
    {
     "name": "stdout",
     "output_type": "stream",
     "text": [
      "3\n"
     ]
    }
   ],
   "source": [
    "'''\n",
    "矩阵覆盖：\n",
    "用2*1的小矩阵横着或者竖着去覆盖更大的矩形。请问用n个2*1的小矩阵无重叠地覆盖一个2*n的大矩形\n",
    "总共有多少种方法？\n",
    "思路：当n=1时，只有一种覆盖方法，当n=2时，有两种覆盖方法。要覆盖2*n大矩形，可以先覆盖2*1的矩形\n",
    "再覆盖2*(n-1)的矩形，或者先覆盖2*2的矩形，再覆盖2*(n-2)的矩形\n",
    "'''\n",
    "def RectCover(n):\n",
    "    if n<=2:return n\n",
    "    pre2=1;pre1=2;\n",
    "    result=0\n",
    "    for i in range(3,n+1):\n",
    "        result=pre2+pre1\n",
    "        pre2=pre1\n",
    "        pre1=result\n",
    "    return result\n",
    "print(RectCover(3))"
   ]
  },
  {
   "cell_type": "code",
   "execution_count": 4,
   "metadata": {},
   "outputs": [
    {
     "name": "stdout",
     "output_type": "stream",
     "text": [
      "5\n",
      "8\n",
      "8\n"
     ]
    }
   ],
   "source": [
    "'''\n",
    "跳台阶\n",
    "一只青蛙一次可以跳上1级台阶，也可以跳上2级。求该青蛙跳上一个n级的台阶总共有多少种跳法\n",
    "'''\n",
    "def JumpFloor(n):\n",
    "    if n<=2:\n",
    "        return n\n",
    "    pre2=1;pre1=2\n",
    "    result=1\n",
    "    for i in range(3,n+1):\n",
    "        result=pre2+pre1\n",
    "        pre2=pre1\n",
    "        pre1=result\n",
    "    return result\n",
    "print(JumpFloor(4))\n",
    "'''\n",
    "变态跳台阶\n",
    "题目描述：一只青蛙一次可以跳上1级台阶，也可以跳上2级... 它也可以跳上n级。\n",
    "求该青蛙跳上一个n级的台阶总共有多少种跳法\n",
    "'''\n",
    "'''\n",
    "动态规划\n",
    "f(n)=f(n-1)+f(n-2)+......+f(1)+f(0)\n",
    "跳上1级台阶，还要再跳f(n-1)\n",
    "......\n",
    "跳上n级台阶，还要再跳f(0) f(0)=1\n",
    "'''\n",
    "def jumpFloorII(number):\n",
    "    dp=[1]*number\n",
    "    for i in range(1,number):\n",
    "        for j in range(0,i):\n",
    "            dp[i]+=dp[j]\n",
    "    return dp[number-1]\n",
    "print(jumpFloorII(4))\n",
    "'''\n",
    "数学推导\n",
    "f(n)=f(n-1)+f(n-2)+f(n-3)+...+f(0)\n",
    "f(n)=f(n-1)+f(n-1)\n",
    "f(n)=2f(n-1)\n",
    "'''\n",
    "def jumpFloorIII(number):\n",
    "    import math\n",
    "    if number == 1:return 1\n",
    "    else:\n",
    "        return int(math.pow(2,number-1))\n",
    "print(jumpFloorIII(4))\n",
    "    "
   ]
  },
  {
   "cell_type": "code",
   "execution_count": 6,
   "metadata": {},
   "outputs": [
    {
     "name": "stdout",
     "output_type": "stream",
     "text": [
      "1\n",
      "0\n"
     ]
    }
   ],
   "source": [
    "'''\n",
    "旋转数组的最小数字\n",
    "把一个数组最开始的若干个元素搬到数组的末尾，我们称之为数组的旋转。\n",
    "输入一个非递减排序的数组的一个旋转，输出旋转数组的最小元素。\n",
    "\n",
    "思路：二分，确定对半分得到的两个数组哪一个是旋转数组，哪一个是非递减数组。\n",
    "非递减元素第一个元素一定小于等于最后一个元素\n",
    "当num[mid]>=num[high]:左半边是非递减，右半部分是旋转(3,4,5,1,2)\n",
    "当num[mid]<=num[high]:左半部分是旋转，右半部分是非递减(5,1,2,3,4)\n",
    "当num[low]=num[mid]=num[high]:确定元素的位置，需要顺序查找(1,0,1,1,1)\n",
    "'''\n",
    "class Solution:\n",
    "    def minNumberInRotateArray(self,rotateArray):\n",
    "        L=len(rotateArray)\n",
    "        low,high=0,L-1\n",
    "        while low<high:\n",
    "            mid=low+(high-low)//2\n",
    "            if rotateArray[low] == rotateArray[mid]==rotateArray[high]:\n",
    "                return self.followSearch(low,high,rotateArray)\n",
    "            if rotateArray[mid]>=rotateArray[high]:\n",
    "                low=mid+1\n",
    "            else:\n",
    "                high=mid\n",
    "        return rotateArray[low]\n",
    "    \n",
    "    def followSearch(self,low,high,array):\n",
    "        for i in range(low,high+1):\n",
    "            if array[i]>array[i+1]:\n",
    "                return array[i+1]\n",
    "        return array[low]\n",
    "s=Solution()\n",
    "print(s.minNumberInRotateArray([3,4,5,1,2]))\n",
    "print(s.minNumberInRotateArray([1,1,1,0,1]))"
   ]
  },
  {
   "cell_type": "code",
   "execution_count": 16,
   "metadata": {},
   "outputs": [
    {
     "name": "stdout",
     "output_type": "stream",
     "text": [
      "True\n"
     ]
    }
   ],
   "source": [
    "class Solution:\n",
    "    def __init__(self):\n",
    "        self.d=[(-1,0),(1,0),(0,-1),(0,1)]\n",
    "    def hasPath(self,matrix,rows,cols,path):\n",
    "        if rows ==0 or cols == 0:return False\n",
    "        matrix=self.buildMatrix(rows,cols,matrix)\n",
    "        marked=[[False]*cols for _ in range(rows)]\n",
    "        for i in range(rows):\n",
    "            for j in range(cols):\n",
    "                if self.backtracing(matrix,marked,0,path,i,j):\n",
    "                    return True\n",
    "        return False\n",
    "    def backtracing(self,matrix,marked,strlen,path,r,c):\n",
    "        if strlen == len(path):return True\n",
    "        if r<0 or r>=len(matrix) or c<0 or c>=len(matrix[0])\\\n",
    "                or matrix[r][c]!=path[strlen] or marked[r][c]:\n",
    "            return False\n",
    "        marked[r][c]=True\n",
    "        for i in self.d:\n",
    "            if self.backtracing(matrix,marked,strlen+1,path,r+i[0],c+i[1]):\n",
    "                return True\n",
    "        marked[r][c]=False\n",
    "        return False\n",
    "    def buildMatrix(self,rows,cols,str1):\n",
    "        M=[[0]*cols for _ in range(rows)]\n",
    "        k=0\n",
    "        for i in range(rows):\n",
    "            for j in range(cols):\n",
    "                M[i][j]=str1[k]\n",
    "                k+=1\n",
    "        return M\n",
    "s=Solution()\n",
    "print(s.hasPath(\"ABCESFCSADEE\",3,4,\"ABCCED\"))"
   ]
  },
  {
   "cell_type": "code",
   "execution_count": null,
   "metadata": {},
   "outputs": [],
   "source": []
  }
 ],
 "metadata": {
  "kernelspec": {
   "display_name": "Python 3",
   "language": "python",
   "name": "python3"
  },
  "language_info": {
   "codemirror_mode": {
    "name": "ipython",
    "version": 3
   },
   "file_extension": ".py",
   "mimetype": "text/x-python",
   "name": "python",
   "nbconvert_exporter": "python",
   "pygments_lexer": "ipython3",
   "version": "3.6.1"
  }
 },
 "nbformat": 4,
 "nbformat_minor": 2
}
