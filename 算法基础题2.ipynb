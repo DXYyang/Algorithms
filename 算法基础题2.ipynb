{
 "cells": [
  {
   "cell_type": "code",
   "execution_count": 3,
   "metadata": {},
   "outputs": [
    {
     "name": "stdout",
     "output_type": "stream",
     "text": [
      "3\n",
      "3\n"
     ]
    }
   ],
   "source": [
    "'''\n",
    "斐波那切数列\n",
    "'''\n",
    "def Fibonacci(n):\n",
    "    if n<=1:\n",
    "        return n\n",
    "    fib=[0]*(n+1)\n",
    "    fib[1]=1\n",
    "    for i in range(2,n+1):\n",
    "        fib[i]=fib[i-1]+fib[i-2]\n",
    "    return fib[n]\n",
    "print(Fibonacci(4))\n",
    "\n",
    "def Fibonacci2(n):\n",
    "    if n<=1:\n",
    "        return n\n",
    "    pre2,pre1=0,1\n",
    "    fib=0\n",
    "    for i in range(2,n+1):\n",
    "        fib=pre2+pre1\n",
    "        pre2,pre1=pre1,fib\n",
    "    return fib\n",
    "print(Fibonacci2(4))"
   ]
  },
  {
   "cell_type": "code",
   "execution_count": 4,
   "metadata": {},
   "outputs": [
    {
     "name": "stdout",
     "output_type": "stream",
     "text": [
      "3\n"
     ]
    }
   ],
   "source": [
    "'''\n",
    "矩阵覆盖：\n",
    "用2*1的小矩阵横着或者竖着去覆盖更大的矩形。请问用n个2*1的小矩阵无重叠地覆盖一个2*n的大矩形\n",
    "总共有多少种方法？\n",
    "思路：当n=1时，只有一种覆盖方法，当n=2时，有两种覆盖方法。要覆盖2*n大矩形，可以先覆盖2*1的矩形\n",
    "再覆盖2*(n-1)的矩形，或者先覆盖2*2的矩形，再覆盖2*(n-2)的矩形\n",
    "'''\n",
    "def RectCover(n):\n",
    "    if n<=2:return n\n",
    "    pre2=1;pre1=2;\n",
    "    result=0\n",
    "    for i in range(3,n+1):\n",
    "        result=pre2+pre1\n",
    "        pre2=pre1\n",
    "        pre1=result\n",
    "    return result\n",
    "print(RectCover(3))"
   ]
  },
  {
   "cell_type": "code",
   "execution_count": 4,
   "metadata": {},
   "outputs": [
    {
     "name": "stdout",
     "output_type": "stream",
     "text": [
      "5\n",
      "8\n",
      "8\n"
     ]
    }
   ],
   "source": [
    "'''\n",
    "跳台阶\n",
    "一只青蛙一次可以跳上1级台阶，也可以跳上2级。求该青蛙跳上一个n级的台阶总共有多少种跳法\n",
    "'''\n",
    "def JumpFloor(n):\n",
    "    if n<=2:\n",
    "        return n\n",
    "    pre2=1;pre1=2\n",
    "    result=1\n",
    "    for i in range(3,n+1):\n",
    "        result=pre2+pre1\n",
    "        pre2=pre1\n",
    "        pre1=result\n",
    "    return result\n",
    "print(JumpFloor(4))\n",
    "'''\n",
    "变态跳台阶\n",
    "题目描述：一只青蛙一次可以跳上1级台阶，也可以跳上2级... 它也可以跳上n级。\n",
    "求该青蛙跳上一个n级的台阶总共有多少种跳法\n",
    "'''\n",
    "'''\n",
    "动态规划\n",
    "f(n)=f(n-1)+f(n-2)+......+f(1)+f(0)\n",
    "跳上1级台阶，还要再跳f(n-1)\n",
    "......\n",
    "跳上n级台阶，还要再跳f(0) f(0)=1\n",
    "'''\n",
    "def jumpFloorII(number):\n",
    "    dp=[1]*number\n",
    "    for i in range(1,number):\n",
    "        for j in range(0,i):\n",
    "            dp[i]+=dp[j]\n",
    "    return dp[number-1]\n",
    "print(jumpFloorII(4))\n",
    "'''\n",
    "数学推导\n",
    "f(n)=f(n-1)+f(n-2)+f(n-3)+...+f(0)\n",
    "f(n)=f(n-1)+f(n-1)\n",
    "f(n)=2f(n-1)\n",
    "'''\n",
    "def jumpFloorIII(number):\n",
    "    import math\n",
    "    if number == 1:return 1\n",
    "    else:\n",
    "        return int(math.pow(2,number-1))\n",
    "print(jumpFloorIII(4))\n",
    "    "
   ]
  },
  {
   "cell_type": "code",
   "execution_count": 6,
   "metadata": {},
   "outputs": [
    {
     "name": "stdout",
     "output_type": "stream",
     "text": [
      "1\n",
      "0\n"
     ]
    }
   ],
   "source": [
    "'''\n",
    "旋转数组的最小数字\n",
    "把一个数组最开始的若干个元素搬到数组的末尾，我们称之为数组的旋转。\n",
    "输入一个非递减排序的数组的一个旋转，输出旋转数组的最小元素。\n",
    "\n",
    "思路：二分，确定对半分得到的两个数组哪一个是旋转数组，哪一个是非递减数组。\n",
    "非递减元素第一个元素一定小于等于最后一个元素\n",
    "当num[mid]>=num[high]:左半边是非递减，右半部分是旋转(3,4,5,1,2)\n",
    "当num[mid]<=num[high]:左半部分是旋转，右半部分是非递减(5,1,2,3,4)\n",
    "当num[low]=num[mid]=num[high]:确定元素的位置，需要顺序查找(1,0,1,1,1)\n",
    "'''\n",
    "class Solution:\n",
    "    def minNumberInRotateArray(self,rotateArray):\n",
    "        L=len(rotateArray)\n",
    "        low,high=0,L-1\n",
    "        while low<high:\n",
    "            mid=low+(high-low)//2\n",
    "            if rotateArray[low] == rotateArray[mid]==rotateArray[high]:\n",
    "                return self.followSearch(low,high,rotateArray)\n",
    "            if rotateArray[mid]>=rotateArray[high]:\n",
    "                low=mid+1\n",
    "            else:\n",
    "                high=mid\n",
    "        return rotateArray[low]\n",
    "    \n",
    "    def followSearch(self,low,high,array):\n",
    "        for i in range(low,high+1):\n",
    "            if array[i]>array[i+1]:\n",
    "                return array[i+1]\n",
    "        return array[low]\n",
    "s=Solution()\n",
    "print(s.minNumberInRotateArray([3,4,5,1,2]))\n",
    "print(s.minNumberInRotateArray([1,1,1,0,1]))"
   ]
  },
  {
   "cell_type": "code",
   "execution_count": 16,
   "metadata": {},
   "outputs": [
    {
     "name": "stdout",
     "output_type": "stream",
     "text": [
      "True\n"
     ]
    }
   ],
   "source": [
    "'''\n",
    "矩阵中的路径\n",
    "题目描述：判断一个矩阵中是否存在一个包含某字符串所有字符的路径。(每条路径只能走一次)\n",
    "思路：回溯 遍历每一个起始位置\n",
    "'''\n",
    "class Solution:\n",
    "    def __init__(self):\n",
    "        self.d=[(-1,0),(1,0),(0,-1),(0,1)]\n",
    "    def hasPath(self,matrix,rows,cols,path):\n",
    "        if rows ==0 or cols == 0:return False\n",
    "        matrix=self.buildMatrix(rows,cols,matrix)\n",
    "        marked=[[False]*cols for _ in range(rows)]\n",
    "        for i in range(rows):\n",
    "            for j in range(cols):\n",
    "                if self.backtracing(matrix,marked,0,path,i,j):\n",
    "                    return True\n",
    "        return False\n",
    "    def backtracing(self,matrix,marked,strlen,path,r,c):\n",
    "        if strlen == len(path):return True\n",
    "        if r<0 or r>=len(matrix) or c<0 or c>=len(matrix[0])\\\n",
    "                or matrix[r][c]!=path[strlen] or marked[r][c]:\n",
    "            return False\n",
    "        marked[r][c]=True\n",
    "        for i in self.d:\n",
    "            if self.backtracing(matrix,marked,strlen+1,path,r+i[0],c+i[1]):\n",
    "                return True\n",
    "        marked[r][c]=False\n",
    "        return False\n",
    "    def buildMatrix(self,rows,cols,str1):\n",
    "        M=[[0]*cols for _ in range(rows)]\n",
    "        k=0\n",
    "        for i in range(rows):\n",
    "            for j in range(cols):\n",
    "                M[i][j]=str1[k]\n",
    "                k+=1\n",
    "        return M\n",
    "s=Solution()\n",
    "print(s.hasPath(\"ABCESFCSADEE\",3,4,\"ABCCED\"))"
   ]
  },
  {
   "cell_type": "code",
   "execution_count": 11,
   "metadata": {},
   "outputs": [
    {
     "name": "stdout",
     "output_type": "stream",
     "text": [
      "359\n"
     ]
    }
   ],
   "source": [
    "'''\n",
    "机器人的运动范围\n",
    "题目描述：地上有一个m行和n列的方格。一个机器人从坐标(0,0)的格子开始移动，每次只能向上下左右四个方向移动一格，\n",
    "但不能进入行坐标和列坐标的数位之和大于k的格子。问该机器人能够到达多少个格子？\n",
    "\n",
    "思路：回溯\n",
    "'''\n",
    "class Solution:\n",
    "    def __init__(self):\n",
    "        self.d=[(-1,0),(1,0),(0,-1),(0,1)]\n",
    "        self.cnt=0\n",
    "    def movingCount(self,threshold,rows,cols):\n",
    "        marked=[[False]*cols for _ in range(rows)]\n",
    "        Matrix=self.initMatrix(rows,cols)\n",
    "        self.backTrace(threshold,Matrix,marked,0,0)\n",
    "        return self.cnt\n",
    "    def backTrace(self,threshold,matrix,marked,r,c):\n",
    "        rows,cols=len(marked),len(marked[0])\n",
    "        if r<0 or r>=rows or c<0 or c>=cols or marked[r][c]:\n",
    "            return\n",
    "        marked[r][c]=True\n",
    "        if matrix[r][c]>threshold:\n",
    "            return \n",
    "        self.cnt+=1\n",
    "        for i in self.d:\n",
    "            self.backTrace(threshold,matrix,marked,r+i[0],c+i[1])\n",
    "    def initMatrix(self,rows,cols):\n",
    "        M=[0]*max(rows,cols)\n",
    "        for i in range(len(M)):\n",
    "            k=i\n",
    "            while k>0:\n",
    "                M[i]+=k%10\n",
    "                k//=10\n",
    "        Matrix=[[0]*cols for _ in range(rows)]\n",
    "        for i in range(rows):\n",
    "            for j in range(cols):\n",
    "                Matrix[i][j]=M[i]+M[j]\n",
    "        return Matrix\n",
    "s=Solution()\n",
    "print(s.movingCount(15,20,20))\n"
   ]
  },
  {
   "cell_type": "code",
   "execution_count": 15,
   "metadata": {},
   "outputs": [
    {
     "name": "stdout",
     "output_type": "stream",
     "text": [
      "36\n",
      "36\n"
     ]
    }
   ],
   "source": [
    "'''\n",
    "剪绳子\n",
    "题目描述：把一根绳子剪成多段，并且使得每段的长度乘积最大\n",
    "Input: n=2\n",
    "Output: 1 (2=1+1)\n",
    "Input: n=10\n",
    "Output: 36 (10=3+3+4)\n",
    "'''\n",
    "\n",
    "'''\n",
    "贪心\n",
    "思路：n表示绳子的总长度,m表示剪绳子的段数\n",
    "1、如果绳子总长度<4，那么减绳子之后的乘积小于绳子的总长度\n",
    "2、如果绳子总长度=4，那么可以将绳子减为2段，此时每段乘积和总长度相等\n",
    "3、如果绳子总长度>=5,那么剪绳子的乘积肯定存在某个值大于绳子总长：\n",
    "    分为长度为2和长度为n-2的两端：2(n-2) 或分为长度为3和n-3的两端 则2(n-2)>n;3(n-3)>n\n",
    "    并且3(n-3)>=2(n-2)\n",
    "所以我们尽可能地多剪长度为3的绳子端，长度为2的绳子最多2端，不留绳子长度为1\n",
    "'''\n",
    "import math\n",
    "class Solution:\n",
    "    def integerBreak(self,n):\n",
    "        if n<2:return 0\n",
    "        if n == 2:return 1\n",
    "        if n == 3:return 2\n",
    "        cnt3=n//3\n",
    "        if n-3*cnt3 == 1:\n",
    "            cnt3-=1\n",
    "        cnt2=(n-3*cnt3)//2\n",
    "        return int(math.pow(3,cnt3))*int(math.pow(2,cnt2))\n",
    "s=Solution()\n",
    "print(s.integerBreak(10))\n",
    "'''\n",
    "动态规划\n",
    "dp[n]:长度为n的绳子被剪成段后，各段乘积的最大值\n",
    "'''\n",
    "class Solution:\n",
    "    def integerBreakII(self,n):\n",
    "        dp=[1]*(n+1)\n",
    "        for i in range(2,n+1):\n",
    "            for j in range(1,i):\n",
    "                dp[i]=max(dp[i],max(j*(i-j),dp[j]*(i-j)))\n",
    "        return dp[n]\n",
    "s=Solution()\n",
    "print(s.integerBreakII(10))\n"
   ]
  },
  {
   "cell_type": "code",
   "execution_count": 16,
   "metadata": {},
   "outputs": [
    {
     "name": "stdout",
     "output_type": "stream",
     "text": [
      "2\n"
     ]
    }
   ],
   "source": [
    "'''\n",
    "二进制中1的个数\n",
    "题目描述：输入一个整数，输出该数二进制表示中1的个数\n",
    "n & n-1\n",
    "该位运算去除n的位级表示中最低的那一位\n",
    "n:110\n",
    "n-1:101\n",
    "n & n-1:100\n",
    "'''\n",
    "class Solution:\n",
    "    def NumberOf1(self,n):\n",
    "        cnt=0\n",
    "        if n<0:\n",
    "            n=n & 0xffffffff\n",
    "        while n>0:\n",
    "            cnt+=1\n",
    "            n=n&(n-1)\n",
    "        return cnt\n",
    "s=Solution()\n",
    "print(s.NumberOf1(3))"
   ]
  },
  {
   "cell_type": "code",
   "execution_count": 18,
   "metadata": {},
   "outputs": [
    {
     "name": "stdout",
     "output_type": "stream",
     "text": [
      "8\n",
      "-0.125\n"
     ]
    }
   ],
   "source": [
    " '''\n",
    " 数值的整数次方\n",
    " 给定一个double类型的浮点数base和int类型的整数exponent,求base的exponent次方\n",
    " 思路:\n",
    " 当n%2=0:x^n=(x*x)^(n/2)\n",
    " 当n%2=1:x^n=x*(x*x)^(n/2)\n",
    " '''\n",
    "class Solution:\n",
    "    def Power(self,base,exponent):\n",
    "        if exponent == 0:return 1\n",
    "        if exponent == 1:return base\n",
    "        isNegative = False\n",
    "        if exponent<0:\n",
    "            exponent=-exponent\n",
    "            isNegative=True\n",
    "        res=self.Power(base*base,exponent//2)\n",
    "        if exponent % 2 !=0:\n",
    "            res=res*base\n",
    "        return 1/res if isNegative else res\n",
    "s=Solution()\n",
    "print(s.Power(2,3))\n",
    "print(s.Power(-2,-3))"
   ]
  },
  {
   "cell_type": "code",
   "execution_count": 24,
   "metadata": {},
   "outputs": [
    {
     "name": "stdout",
     "output_type": "stream",
     "text": [
      "True\n",
      "True\n",
      "True\n"
     ]
    }
   ],
   "source": [
    "'''\n",
    "正则表达式匹配\n",
    "题目描述：\n",
    "请实现一个函数用来匹配包括'.'和'*'的正则表达式。\n",
    "模式中字符'.'表示任意一个字符,而'*'表示它前面的字符可以出现任意次\n",
    "'''\n",
    "class Solution:\n",
    "    def isMatch(self,s,p):\n",
    "        '''\n",
    "        递归\n",
    "        '''\n",
    "        if not p:\n",
    "            return not s\n",
    "        isFirstMatch= bool(s) and p[0] in (s[0],'.')\n",
    "        if len(p)>=2 and p[1]=='*':\n",
    "            return self.isMatch(s,p[2:]) or \\\n",
    "                        (isFirstMatch and self.isMatch(s[1:],p))\n",
    "        else:\n",
    "            return isFirstMatch and self.isMatch(s[1:],p[1:])\n",
    "    def isMatchII(self,s,p):\n",
    "        '''\n",
    "        自顶向下的备忘录\n",
    "        dp(i,j):s[i:]能否用p[j:]匹配\n",
    "        '''\n",
    "        memo={}\n",
    "        def dp(i,j):\n",
    "            if (i,j) not in memo:\n",
    "                if j ==len(p):\n",
    "                    ans = i==len(s)\n",
    "                else:\n",
    "                    isFirstmatch=i<len(s) and p[j] in {s[i],'.'}\n",
    "                    if j+1<len(p) and p[j+1]=='*':\n",
    "                        ans=dp(i,j+2) or isFirstmatch and dp(i+1,j)\n",
    "                    else:\n",
    "                        ans=isFirstmatch and dp(i+1,j+1)\n",
    "                memo[i,j]=ans# key为(i,j)的元组\n",
    "            return memo[i,j]\n",
    "        return dp(0,0)\n",
    "        \n",
    "    def isMatchIII(self,s,p):\n",
    "        '''\n",
    "        自底向上的动态规划\n",
    "        '''\n",
    "        dp=[[False]*(len(p)+1) for _ in range(len(s)+1)]\n",
    "        dp[-1][-1]=True\n",
    "        for i in range(len(s),-1,-1):\n",
    "            for j in range(len(p)-1,-1,-1):\n",
    "                isFirstmatch= i<len(s) and p[j] in {s[i],'.'}\n",
    "                if j+1<len(p) and p[j+1]=='*':\n",
    "                    dp[i][j]=dp[i][j+2] or isFirstmatch and dp[i+1][j]\n",
    "                else:\n",
    "                    dp[i][j]=isFirstmatch and dp[i+1][j+1]\n",
    "        return dp[0][0]\n",
    "    \n",
    "        \n",
    "        \n",
    "s=Solution()\n",
    "print(s.isMatch('aab','c*a*b'))\n",
    "print(s.isMatchII('aab','c*a*b'))\n",
    "print(s.isMatchIII('aab','c*a*b'))"
   ]
  },
  {
   "cell_type": "code",
   "execution_count": 21,
   "metadata": {},
   "outputs": [
    {
     "name": "stdout",
     "output_type": "stream",
     "text": [
      "1\n",
      "2\n",
      "3\n",
      "4\n",
      "5\n",
      "6\n",
      "7\n",
      "8\n",
      "9\n"
     ]
    }
   ],
   "source": [
    "'''\n",
    "打印从1到最大的n位数\n",
    "题目描述：输入数字n，按顺序打印出1到最大的n位十进数\n",
    "Input:3\n",
    "Output:1,2,3,......,999\n",
    "'''\n",
    "class Solution:\n",
    "    def print1ToMaxOfNDigits(self,n):\n",
    "        if n<=0:return\n",
    "        strList=['']*n\n",
    "        self.dfs(strList,0)\n",
    "    def dfs(self,strList,cnt):\n",
    "        if cnt == len(strList):\n",
    "            self.printNumber(strList)\n",
    "            return\n",
    "        for i in range(10):\n",
    "            strList[cnt]=chr(i+ord('0'))\n",
    "            self.dfs(strList,cnt+1)\n",
    "    def printNumber(self,strList):\n",
    "        idx=0\n",
    "        while idx<len(strList) and strList[idx]=='0':\n",
    "            idx+=1\n",
    "        if idx == len(strList):return\n",
    "        while idx<len(strList):\n",
    "            print(strList[idx],end='')\n",
    "            idx+=1\n",
    "        print()\n",
    "s=Solution()\n",
    "s.print1ToMaxOfNDigits(1)\n",
    "            \n",
    "        "
   ]
  }
 ],
 "metadata": {
  "kernelspec": {
   "display_name": "Python 3",
   "language": "python",
   "name": "python3"
  },
  "language_info": {
   "codemirror_mode": {
    "name": "ipython",
    "version": 3
   },
   "file_extension": ".py",
   "mimetype": "text/x-python",
   "name": "python",
   "nbconvert_exporter": "python",
   "pygments_lexer": "ipython3",
   "version": "3.6.1"
  }
 },
 "nbformat": 4,
 "nbformat_minor": 2
}
